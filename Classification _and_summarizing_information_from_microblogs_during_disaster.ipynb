{
  "nbformat": 4,
  "nbformat_minor": 0,
  "metadata": {
    "colab": {
      "name": "Data Science project",
      "provenance": [],
      "collapsed_sections": []
    },
    "kernelspec": {
      "name": "python3",
      "display_name": "Python 3"
    }
  },
  "cells": [
    {
      "cell_type": "code",
      "metadata": {
        "id": "oW50UtblU66n"
      },
      "source": [
        "import numpy as np\n",
        "import matplotlib.pyplot as plt\n",
        "import pandas as pd"
      ],
      "execution_count": 1,
      "outputs": []
    },
    {
      "cell_type": "code",
      "metadata": {
        "id": "W1HACesbVnRz"
      },
      "source": [
        "dataset=pd.read_csv('/content/2014_ebola_CF_labeled_data.tsv',delimiter='\\t',quoting=3)"
      ],
      "execution_count": 3,
      "outputs": []
    },
    {
      "cell_type": "code",
      "metadata": {
        "colab": {
          "base_uri": "https://localhost:8080/",
          "height": 195
        },
        "id": "kLeIeh0ILycQ",
        "outputId": "c0745628-c342-4253-dbcf-f6e09ab84557"
      },
      "source": [
        "dataset.head()"
      ],
      "execution_count": 4,
      "outputs": [
        {
          "output_type": "execute_result",
          "data": {
            "text/html": [
              "<div>\n",
              "<style scoped>\n",
              "    .dataframe tbody tr th:only-of-type {\n",
              "        vertical-align: middle;\n",
              "    }\n",
              "\n",
              "    .dataframe tbody tr th {\n",
              "        vertical-align: top;\n",
              "    }\n",
              "\n",
              "    .dataframe thead th {\n",
              "        text-align: right;\n",
              "    }\n",
              "</style>\n",
              "<table border=\"1\" class=\"dataframe\">\n",
              "  <thead>\n",
              "    <tr style=\"text-align: right;\">\n",
              "      <th></th>\n",
              "      <th>tweet_id</th>\n",
              "      <th>tweet_text</th>\n",
              "      <th>label</th>\n",
              "    </tr>\n",
              "  </thead>\n",
              "  <tbody>\n",
              "    <tr>\n",
              "      <th>0</th>\n",
              "      <td>'497671828195008512'</td>\n",
              "      <td>RT @QuestionsNG: Ebola is not gonna come close...</td>\n",
              "      <td>other_useful_information</td>\n",
              "    </tr>\n",
              "    <tr>\n",
              "      <th>1</th>\n",
              "      <td>'522457018863726592'</td>\n",
              "      <td>It's too funny to watch MSNBC put an infectiou...</td>\n",
              "      <td>treatment</td>\n",
              "    </tr>\n",
              "    <tr>\n",
              "      <th>2</th>\n",
              "      <td>'523158748958031873'</td>\n",
              "      <td>RT @mikecalma: How the #GOP fights infectious ...</td>\n",
              "      <td>other_useful_information</td>\n",
              "    </tr>\n",
              "    <tr>\n",
              "      <th>3</th>\n",
              "      <td>'522494238815031296'</td>\n",
              "      <td>@drbrainbugz it's all about spin! Guaranteed t...</td>\n",
              "      <td>other_useful_information</td>\n",
              "    </tr>\n",
              "    <tr>\n",
              "      <th>4</th>\n",
              "      <td>'523510656771698689'</td>\n",
              "      <td>WHO officially declares that #Senegal has ende...</td>\n",
              "      <td>disease_transmission</td>\n",
              "    </tr>\n",
              "  </tbody>\n",
              "</table>\n",
              "</div>"
            ],
            "text/plain": [
              "               tweet_id  ...                     label\n",
              "0  '497671828195008512'  ...  other_useful_information\n",
              "1  '522457018863726592'  ...                 treatment\n",
              "2  '523158748958031873'  ...  other_useful_information\n",
              "3  '522494238815031296'  ...  other_useful_information\n",
              "4  '523510656771698689'  ...      disease_transmission\n",
              "\n",
              "[5 rows x 3 columns]"
            ]
          },
          "metadata": {
            "tags": []
          },
          "execution_count": 4
        }
      ]
    },
    {
      "cell_type": "code",
      "metadata": {
        "colab": {
          "base_uri": "https://localhost:8080/"
        },
        "id": "qnI7H6azL4Ir",
        "outputId": "6375bccf-7043-4396-a954-35869f578d62"
      },
      "source": [
        "dataset.shape"
      ],
      "execution_count": 5,
      "outputs": [
        {
          "output_type": "execute_result",
          "data": {
            "text/plain": [
              "(1774, 3)"
            ]
          },
          "metadata": {
            "tags": []
          },
          "execution_count": 5
        }
      ]
    },
    {
      "cell_type": "code",
      "metadata": {
        "colab": {
          "base_uri": "https://localhost:8080/"
        },
        "id": "dbBGSzQKL8D1",
        "outputId": "cf47edd4-473f-49b2-c335-f03d17ef2fc7"
      },
      "source": [
        "print(set(dataset.label))"
      ],
      "execution_count": 9,
      "outputs": [
        {
          "output_type": "stream",
          "text": [
            "{'prevention', 'deaths_reports', 'not_related_or_irrelevant', 'other_useful_information', 'disease_signs_or_symptoms', 'affected_people', 'treatment', 'disease_transmission'}\n"
          ],
          "name": "stdout"
        }
      ]
    },
    {
      "cell_type": "code",
      "metadata": {
        "id": "7xyX7eC5V4kE",
        "colab": {
          "base_uri": "https://localhost:8080/"
        },
        "outputId": "875f4ad4-6938-4d8d-9223-22f30a90df61"
      },
      "source": [
        "import re\n",
        "import nltk\n",
        "nltk.download('stopwords')\n",
        "from nltk.corpus import stopwords\n",
        "from nltk.stem.porter import PorterStemmer\n",
        "corpus=[]\n",
        "for i in range(0,1774):\n",
        "    review=re.sub('[^a-zA-Z]',' ',dataset['tweet_text'][i])\n",
        "    review=review.lower()\n",
        "    review=review.split()\n",
        "    ps=PorterStemmer()\n",
        "    review=[ps.stem(word) for word in review if not word in set(stopwords.words('english'))]\n",
        "    review=' '.join(review)\n",
        "    corpus.append(review)"
      ],
      "execution_count": 10,
      "outputs": [
        {
          "output_type": "stream",
          "text": [
            "[nltk_data] Downloading package stopwords to /root/nltk_data...\n",
            "[nltk_data]   Unzipping corpora/stopwords.zip.\n"
          ],
          "name": "stdout"
        }
      ]
    },
    {
      "cell_type": "code",
      "metadata": {
        "id": "rPi1tHxIYrOq",
        "outputId": "03cb0f77-1e51-4642-8a44-620a5a46f3fa",
        "colab": {
          "base_uri": "https://localhost:8080/"
        }
      },
      "source": [
        "len(corpus)"
      ],
      "execution_count": 32,
      "outputs": [
        {
          "output_type": "execute_result",
          "data": {
            "text/plain": [
              "1774"
            ]
          },
          "metadata": {
            "tags": []
          },
          "execution_count": 32
        }
      ]
    },
    {
      "cell_type": "code",
      "metadata": {
        "id": "_NRp6xBdV-rW"
      },
      "source": [
        "from sklearn.feature_extraction.text import CountVectorizer\n",
        "cv=CountVectorizer(max_features=8000)\n",
        "X=cv.fit_transform(corpus).toarray()\n",
        "y=dataset.iloc[:,2].values"
      ],
      "execution_count": 11,
      "outputs": []
    },
    {
      "cell_type": "code",
      "metadata": {
        "id": "Y-LrJuw4WHZ1"
      },
      "source": [
        "from sklearn.model_selection import train_test_split\n",
        "X_train, X_test, y_train, y_test = train_test_split(X, y, test_size = 0.25, random_state = 0)"
      ],
      "execution_count": 12,
      "outputs": []
    },
    {
      "cell_type": "code",
      "metadata": {
        "id": "YsVzrcpJWM8d"
      },
      "source": [
        "from sklearn.preprocessing import StandardScaler\n",
        "sc = StandardScaler()\n",
        "X_train = sc.fit_transform(X_train)\n",
        "X_test = sc.transform(X_test)"
      ],
      "execution_count": 13,
      "outputs": []
    },
    {
      "cell_type": "code",
      "metadata": {
        "id": "S-9-XYMJWQTD",
        "colab": {
          "base_uri": "https://localhost:8080/"
        },
        "outputId": "61eddf75-0d58-4a57-9122-148e11d15082"
      },
      "source": [
        "from sklearn.tree import DecisionTreeClassifier\n",
        "classifier = DecisionTreeClassifier(criterion = 'entropy', random_state = 0)\n",
        "classifier.fit(X_train, y_train)"
      ],
      "execution_count": 14,
      "outputs": [
        {
          "output_type": "execute_result",
          "data": {
            "text/plain": [
              "DecisionTreeClassifier(ccp_alpha=0.0, class_weight=None, criterion='entropy',\n",
              "                       max_depth=None, max_features=None, max_leaf_nodes=None,\n",
              "                       min_impurity_decrease=0.0, min_impurity_split=None,\n",
              "                       min_samples_leaf=1, min_samples_split=2,\n",
              "                       min_weight_fraction_leaf=0.0, presort='deprecated',\n",
              "                       random_state=0, splitter='best')"
            ]
          },
          "metadata": {
            "tags": []
          },
          "execution_count": 14
        }
      ]
    },
    {
      "cell_type": "code",
      "metadata": {
        "id": "MTddVOzoWUop"
      },
      "source": [
        "y_pred = classifier.predict(X_test)"
      ],
      "execution_count": 15,
      "outputs": []
    },
    {
      "cell_type": "code",
      "metadata": {
        "id": "KhV3VwFuWX9b"
      },
      "source": [
        "from sklearn.metrics import confusion_matrix\n",
        "cm = confusion_matrix(y_test, y_pred)"
      ],
      "execution_count": 16,
      "outputs": []
    },
    {
      "cell_type": "code",
      "metadata": {
        "id": "xUu1_jQ1Wbt0",
        "colab": {
          "base_uri": "https://localhost:8080/"
        },
        "outputId": "95818034-7834-478a-a258-fec65545c46f"
      },
      "source": [
        "from sklearn import metrics\n",
        "print(metrics.classification_report(y_test, y_pred, digits=9))"
      ],
      "execution_count": 17,
      "outputs": [
        {
          "output_type": "stream",
          "text": [
            "                           precision    recall  f1-score   support\n",
            "\n",
            "          affected_people  0.350000000 0.179487179 0.237288136        39\n",
            "           deaths_reports  0.363636364 0.444444444 0.400000000         9\n",
            "disease_signs_or_symptoms  0.645161290 0.800000000 0.714285714        50\n",
            "     disease_transmission  0.735294118 0.735294118 0.735294118        34\n",
            "not_related_or_irrelevant  0.611111111 0.550000000 0.578947368        60\n",
            " other_useful_information  0.609929078 0.704918033 0.653992395       122\n",
            "               prevention  0.729729730 0.586956522 0.650602410        46\n",
            "                treatment  0.694117647 0.702380952 0.698224852        84\n",
            "\n",
            "                 accuracy                      0.632882883       444\n",
            "                macro avg  0.592372417 0.587935156 0.583579374       444\n",
            "             weighted avg  0.624171748 0.632882883 0.623132963       444\n",
            "\n"
          ],
          "name": "stdout"
        }
      ]
    },
    {
      "cell_type": "code",
      "metadata": {
        "id": "7dW1xdxRWfmY",
        "colab": {
          "base_uri": "https://localhost:8080/"
        },
        "outputId": "2bd41ae6-5b7f-4a42-99f9-aa4d604ce00d"
      },
      "source": [
        "from sklearn.ensemble import RandomForestClassifier\r\n",
        "rf=RandomForestClassifier()\r\n",
        "rf.fit(X_train, y_train)"
      ],
      "execution_count": 18,
      "outputs": [
        {
          "output_type": "execute_result",
          "data": {
            "text/plain": [
              "RandomForestClassifier(bootstrap=True, ccp_alpha=0.0, class_weight=None,\n",
              "                       criterion='gini', max_depth=None, max_features='auto',\n",
              "                       max_leaf_nodes=None, max_samples=None,\n",
              "                       min_impurity_decrease=0.0, min_impurity_split=None,\n",
              "                       min_samples_leaf=1, min_samples_split=2,\n",
              "                       min_weight_fraction_leaf=0.0, n_estimators=100,\n",
              "                       n_jobs=None, oob_score=False, random_state=None,\n",
              "                       verbose=0, warm_start=False)"
            ]
          },
          "metadata": {
            "tags": []
          },
          "execution_count": 18
        }
      ]
    },
    {
      "cell_type": "code",
      "metadata": {
        "id": "KAydRHheNhyS"
      },
      "source": [
        "y_pred = rf.predict(X_test)"
      ],
      "execution_count": 23,
      "outputs": []
    },
    {
      "cell_type": "code",
      "metadata": {
        "id": "cTCKHU6YNl19"
      },
      "source": [
        "from sklearn.metrics import confusion_matrix\r\n",
        "cm = confusion_matrix(y_test, y_pred)"
      ],
      "execution_count": 24,
      "outputs": []
    },
    {
      "cell_type": "code",
      "metadata": {
        "colab": {
          "base_uri": "https://localhost:8080/"
        },
        "id": "rdpBd-cTNo5v",
        "outputId": "539e4924-bb6f-42ce-dcc8-7e2f51a7fae2"
      },
      "source": [
        "print(cm)"
      ],
      "execution_count": 25,
      "outputs": [
        {
          "output_type": "stream",
          "text": [
            "[[  1   0  15   1   1  12   0   9]\n",
            " [  0   4   0   0   0   3   0   2]\n",
            " [  0   0  43   0   1   6   0   0]\n",
            " [  0   0   1  18   0  15   0   0]\n",
            " [  0   0   2   1  29  24   2   2]\n",
            " [  1   0   0   0   1 110   1   9]\n",
            " [  1   0   4   1   0  11  28   1]\n",
            " [  2   0   4   0   1  14   0  63]]\n"
          ],
          "name": "stdout"
        }
      ]
    },
    {
      "cell_type": "code",
      "metadata": {
        "colab": {
          "base_uri": "https://localhost:8080/"
        },
        "id": "qq44rJhqNsR1",
        "outputId": "e3734f4a-fdc1-469f-b604-22e3a9c466bb"
      },
      "source": [
        "from sklearn import metrics\r\n",
        "print(metrics.classification_report(y_test, y_pred, digits=9))"
      ],
      "execution_count": 26,
      "outputs": [
        {
          "output_type": "stream",
          "text": [
            "                           precision    recall  f1-score   support\n",
            "\n",
            "          affected_people  0.200000000 0.025641026 0.045454545        39\n",
            "           deaths_reports  1.000000000 0.444444444 0.615384615         9\n",
            "disease_signs_or_symptoms  0.623188406 0.860000000 0.722689076        50\n",
            "     disease_transmission  0.857142857 0.529411765 0.654545455        34\n",
            "not_related_or_irrelevant  0.878787879 0.483333333 0.623655914        60\n",
            " other_useful_information  0.564102564 0.901639344 0.694006309       122\n",
            "               prevention  0.903225806 0.608695652 0.727272727        46\n",
            "                treatment  0.732558140 0.750000000 0.741176471        84\n",
            "\n",
            "                 accuracy                      0.666666667       444\n",
            "                macro avg  0.719875706 0.575395696 0.603023139       444\n",
            "             weighted avg  0.679579581 0.666666667 0.638517301       444\n",
            "\n"
          ],
          "name": "stdout"
        }
      ]
    },
    {
      "cell_type": "code",
      "metadata": {
        "id": "_aPFSoA4YBqK"
      },
      "source": [
        ""
      ],
      "execution_count": null,
      "outputs": []
    }
  ]
}